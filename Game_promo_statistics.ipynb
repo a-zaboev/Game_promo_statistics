{
 "cells": [
  {
   "cell_type": "markdown",
   "metadata": {},
   "source": [
    "Имеются результаты A/B теста, в котором двум группам пользователей предлагались различные наборы акционных предложений. Известно, что ARPU в тестовой группе выше на 5%, чем в контрольной. При этом в контрольной группе 1928 игроков из 202103 оказались платящими, а в тестовой – 1805 из 202667. Ответим на вопросы:\n",
    "\n",
    "- Какой набор предложений можно считать лучшим?\n",
    "- Какие метрики стоит проанализировать для принятия правильного решения и как?"
   ]
  },
  {
   "cell_type": "code",
   "execution_count": 101,
   "metadata": {},
   "outputs": [],
   "source": [
    "import pandas as pd\n",
    "import seaborn as sns\n",
    "import matplotlib.pyplot as plt\n",
    "import numpy as np\n",
    "\n",
    "import scipy.stats as stats"
   ]
  },
  {
   "cell_type": "markdown",
   "metadata": {},
   "source": [
    "### Посмотрим на данные"
   ]
  },
  {
   "cell_type": "code",
   "execution_count": 102,
   "metadata": {},
   "outputs": [],
   "source": [
    "AB_mobil_games = pd.read_csv('~/Проект_1_Задание_2.csv', sep = ';')"
   ]
  },
  {
   "cell_type": "code",
   "execution_count": 103,
   "metadata": {},
   "outputs": [
    {
     "data": {
      "text/plain": [
       "(404770, 3)"
      ]
     },
     "execution_count": 103,
     "metadata": {},
     "output_type": "execute_result"
    }
   ],
   "source": [
    "AB_mobil_games.shape"
   ]
  },
  {
   "cell_type": "code",
   "execution_count": 104,
   "metadata": {},
   "outputs": [
    {
     "data": {
      "text/plain": [
       "user_id       int64\n",
       "revenue       int64\n",
       "testgroup    object\n",
       "dtype: object"
      ]
     },
     "execution_count": 104,
     "metadata": {},
     "output_type": "execute_result"
    }
   ],
   "source": [
    "AB_mobil_games.dtypes"
   ]
  },
  {
   "cell_type": "code",
   "execution_count": 105,
   "metadata": {},
   "outputs": [
    {
     "data": {
      "text/plain": [
       "404770"
      ]
     },
     "execution_count": 105,
     "metadata": {},
     "output_type": "execute_result"
    }
   ],
   "source": [
    "AB_mobil_games.user_id.nunique()"
   ]
  },
  {
   "cell_type": "markdown",
   "metadata": {},
   "source": [
    "- id пользователей похожи на id в первом задании, уникальных пользоваетелй меньше, но это и логично, тесты проводят не на всех\n",
    "- количество уникальных пользователей равно количеству строк в датафрейме, а значит по каждому пользователю есть только одна ячейка данных о сумме покупок, то есть, к примеру, метрика - среднее число покупок будет не показательна "
   ]
  },
  {
   "cell_type": "markdown",
   "metadata": {},
   "source": [
    "#### Разберёмся, какая из групп тестовая, а какая контрольная:"
   ]
  },
  {
   "cell_type": "code",
   "execution_count": 106,
   "metadata": {},
   "outputs": [
    {
     "data": {
      "text/html": [
       "<div>\n",
       "<style scoped>\n",
       "    .dataframe tbody tr th:only-of-type {\n",
       "        vertical-align: middle;\n",
       "    }\n",
       "\n",
       "    .dataframe tbody tr th {\n",
       "        vertical-align: top;\n",
       "    }\n",
       "\n",
       "    .dataframe thead th {\n",
       "        text-align: right;\n",
       "    }\n",
       "</style>\n",
       "<table border=\"1\" class=\"dataframe\">\n",
       "  <thead>\n",
       "    <tr style=\"text-align: right;\">\n",
       "      <th></th>\n",
       "      <th>testgroup</th>\n",
       "      <th>user_id</th>\n",
       "    </tr>\n",
       "  </thead>\n",
       "  <tbody>\n",
       "    <tr>\n",
       "      <th>0</th>\n",
       "      <td>a</td>\n",
       "      <td>202103</td>\n",
       "    </tr>\n",
       "    <tr>\n",
       "      <th>1</th>\n",
       "      <td>b</td>\n",
       "      <td>202667</td>\n",
       "    </tr>\n",
       "  </tbody>\n",
       "</table>\n",
       "</div>"
      ],
      "text/plain": [
       "  testgroup  user_id\n",
       "0         a   202103\n",
       "1         b   202667"
      ]
     },
     "execution_count": 106,
     "metadata": {},
     "output_type": "execute_result"
    }
   ],
   "source": [
    "# посчитаем количество пользователей\n",
    "AB_mobil_games.groupby('testgroup', as_index=False).agg({'user_id':'count'})"
   ]
  },
  {
   "cell_type": "code",
   "execution_count": 107,
   "metadata": {},
   "outputs": [
    {
     "data": {
      "text/plain": [
       "1928"
      ]
     },
     "execution_count": 107,
     "metadata": {},
     "output_type": "execute_result"
    }
   ],
   "source": [
    "#посчитаем платящих пользователей в каждой из групп\n",
    "AB_mobil_games.query('testgroup == \"a\"').query('revenue > 0')['user_id'].count()"
   ]
  },
  {
   "cell_type": "code",
   "execution_count": 108,
   "metadata": {},
   "outputs": [
    {
     "data": {
      "text/plain": [
       "1805"
      ]
     },
     "execution_count": 108,
     "metadata": {},
     "output_type": "execute_result"
    }
   ],
   "source": [
    "#посчитаем платящих пользователей в каждой из групп\n",
    "AB_mobil_games.query('testgroup == \"b\"').query('revenue > 0')['user_id'].count()"
   ]
  },
  {
   "cell_type": "code",
   "execution_count": 109,
   "metadata": {},
   "outputs": [
    {
     "data": {
      "text/plain": [
       "25.413719736965806"
      ]
     },
     "execution_count": 109,
     "metadata": {},
     "output_type": "execute_result"
    }
   ],
   "source": [
    "#посчитаем ARPU в каждой из групп\n",
    "AB_mobil_games.query('testgroup == \"a\"')['revenue'].sum() / AB_mobil_games.query('testgroup == \"a\"')['revenue'].count()"
   ]
  },
  {
   "cell_type": "code",
   "execution_count": 110,
   "metadata": {},
   "outputs": [
    {
     "data": {
      "text/plain": [
       "26.75128659327863"
      ]
     },
     "execution_count": 110,
     "metadata": {},
     "output_type": "execute_result"
    }
   ],
   "source": [
    "#посчитаем ARPU в каждой из групп\n",
    "AB_mobil_games.query('testgroup == \"b\"')['revenue'].sum() / AB_mobil_games.query('testgroup == \"b\"')['revenue'].count()"
   ]
  },
  {
   "cell_type": "code",
   "execution_count": 111,
   "metadata": {},
   "outputs": [
    {
     "data": {
      "text/plain": [
       "25.413722263614698"
      ]
     },
     "execution_count": 111,
     "metadata": {},
     "output_type": "execute_result"
    }
   ],
   "source": [
    "#вычислим 5% у большей группы и вычтем их из её размера\n",
    "26.75128659327863 - (26.75128659327863 / 100 * 5)"
   ]
  },
  {
   "cell_type": "markdown",
   "metadata": {},
   "source": [
    "- в группе a 1928 платящих пользователей, как в контрольной, в группе b - 1805, как в тестовой, согласно заданию\n",
    "- в группе a всего 202103 пользователя, как в контрольной, в группе b - 202667, как в тестовой, согласно заданию\n",
    "- в группе b ARPU составляет 26.7512, что на 5% (с округлением до 4 знака) выше, чем в группе a (25.4137) \n",
    "- получается, что a - это контрольная группа, а b - тестовая."
   ]
  },
  {
   "cell_type": "markdown",
   "metadata": {},
   "source": [
    "#### переименуем названия групп осмысленно:"
   ]
  },
  {
   "cell_type": "code",
   "execution_count": 112,
   "metadata": {},
   "outputs": [],
   "source": [
    "AB_mobil_games['testgroup'] = AB_mobil_games['testgroup'].replace({'a':'control', 'b' : 'test'})"
   ]
  },
  {
   "cell_type": "markdown",
   "metadata": {},
   "source": [
    "## Метрика 1 ARPU\n",
    "средний доход с пользователя"
   ]
  },
  {
   "cell_type": "markdown",
   "metadata": {},
   "source": [
    "#### Визуализируем данные по покупкам. Контрольная группа:"
   ]
  },
  {
   "cell_type": "code",
   "execution_count": 146,
   "metadata": {},
   "outputs": [
    {
     "data": {
      "text/plain": [
       "<matplotlib.axes._subplots.AxesSubplot at 0x7f16463dc518>"
      ]
     },
     "execution_count": 146,
     "metadata": {},
     "output_type": "execute_result"
    },
    {
     "data": {
      "image/png": "[encoded data removed]",
      "text/plain": [
       "<Figure size 1440x360 with 1 Axes>"
      ]
     },
     "metadata": {},
     "output_type": "display_data"
    }
   ],
   "source": [
    "sns.set(rc={'figure.figsize':(20,5)})\n",
    "sns.boxplot(data=AB_mobil_games.query('testgroup == \"control\"'), y='testgroup', x='revenue')"
   ]
  },
  {
   "cell_type": "markdown",
   "metadata": {},
   "source": [
    "#### есть выбросы за 35000:"
   ]
  },
  {
   "cell_type": "code",
   "execution_count": 114,
   "metadata": {},
   "outputs": [
    {
     "data": {
      "text/html": [
       "<div>\n",
       "<style scoped>\n",
       "    .dataframe tbody tr th:only-of-type {\n",
       "        vertical-align: middle;\n",
       "    }\n",
       "\n",
       "    .dataframe tbody tr th {\n",
       "        vertical-align: top;\n",
       "    }\n",
       "\n",
       "    .dataframe thead th {\n",
       "        text-align: right;\n",
       "    }\n",
       "</style>\n",
       "<table border=\"1\" class=\"dataframe\">\n",
       "  <thead>\n",
       "    <tr style=\"text-align: right;\">\n",
       "      <th></th>\n",
       "      <th>user_id</th>\n",
       "      <th>revenue</th>\n",
       "      <th>testgroup</th>\n",
       "    </tr>\n",
       "  </thead>\n",
       "  <tbody>\n",
       "    <tr>\n",
       "      <th>88358</th>\n",
       "      <td>88359</td>\n",
       "      <td>37341</td>\n",
       "      <td>control</td>\n",
       "    </tr>\n",
       "    <tr>\n",
       "      <th>321550</th>\n",
       "      <td>321551</td>\n",
       "      <td>37342</td>\n",
       "      <td>control</td>\n",
       "    </tr>\n",
       "    <tr>\n",
       "      <th>321014</th>\n",
       "      <td>321015</td>\n",
       "      <td>37344</td>\n",
       "      <td>control</td>\n",
       "    </tr>\n",
       "    <tr>\n",
       "      <th>173850</th>\n",
       "      <td>173851</td>\n",
       "      <td>37345</td>\n",
       "      <td>control</td>\n",
       "    </tr>\n",
       "    <tr>\n",
       "      <th>360696</th>\n",
       "      <td>360697</td>\n",
       "      <td>37347</td>\n",
       "      <td>control</td>\n",
       "    </tr>\n",
       "    <tr>\n",
       "      <th>343212</th>\n",
       "      <td>343213</td>\n",
       "      <td>37349</td>\n",
       "      <td>control</td>\n",
       "    </tr>\n",
       "    <tr>\n",
       "      <th>183253</th>\n",
       "      <td>183254</td>\n",
       "      <td>37351</td>\n",
       "      <td>control</td>\n",
       "    </tr>\n",
       "    <tr>\n",
       "      <th>356812</th>\n",
       "      <td>356813</td>\n",
       "      <td>37353</td>\n",
       "      <td>control</td>\n",
       "    </tr>\n",
       "    <tr>\n",
       "      <th>144685</th>\n",
       "      <td>144686</td>\n",
       "      <td>37355</td>\n",
       "      <td>control</td>\n",
       "    </tr>\n",
       "    <tr>\n",
       "      <th>215440</th>\n",
       "      <td>215441</td>\n",
       "      <td>37357</td>\n",
       "      <td>control</td>\n",
       "    </tr>\n",
       "    <tr>\n",
       "      <th>287698</th>\n",
       "      <td>287699</td>\n",
       "      <td>37360</td>\n",
       "      <td>control</td>\n",
       "    </tr>\n",
       "    <tr>\n",
       "      <th>76986</th>\n",
       "      <td>76987</td>\n",
       "      <td>37363</td>\n",
       "      <td>control</td>\n",
       "    </tr>\n",
       "    <tr>\n",
       "      <th>175825</th>\n",
       "      <td>175826</td>\n",
       "      <td>37366</td>\n",
       "      <td>control</td>\n",
       "    </tr>\n",
       "    <tr>\n",
       "      <th>174390</th>\n",
       "      <td>174391</td>\n",
       "      <td>37369</td>\n",
       "      <td>control</td>\n",
       "    </tr>\n",
       "    <tr>\n",
       "      <th>229054</th>\n",
       "      <td>229055</td>\n",
       "      <td>37374</td>\n",
       "      <td>control</td>\n",
       "    </tr>\n",
       "    <tr>\n",
       "      <th>142804</th>\n",
       "      <td>142805</td>\n",
       "      <td>37379</td>\n",
       "      <td>control</td>\n",
       "    </tr>\n",
       "    <tr>\n",
       "      <th>21585</th>\n",
       "      <td>21586</td>\n",
       "      <td>37385</td>\n",
       "      <td>control</td>\n",
       "    </tr>\n",
       "    <tr>\n",
       "      <th>65077</th>\n",
       "      <td>65078</td>\n",
       "      <td>37394</td>\n",
       "      <td>control</td>\n",
       "    </tr>\n",
       "    <tr>\n",
       "      <th>196601</th>\n",
       "      <td>196602</td>\n",
       "      <td>37407</td>\n",
       "      <td>control</td>\n",
       "    </tr>\n",
       "    <tr>\n",
       "      <th>101861</th>\n",
       "      <td>101862</td>\n",
       "      <td>37433</td>\n",
       "      <td>control</td>\n",
       "    </tr>\n",
       "  </tbody>\n",
       "</table>\n",
       "</div>"
      ],
      "text/plain": [
       "        user_id  revenue testgroup\n",
       "88358     88359    37341   control\n",
       "321550   321551    37342   control\n",
       "321014   321015    37344   control\n",
       "173850   173851    37345   control\n",
       "360696   360697    37347   control\n",
       "343212   343213    37349   control\n",
       "183253   183254    37351   control\n",
       "356812   356813    37353   control\n",
       "144685   144686    37355   control\n",
       "215440   215441    37357   control\n",
       "287698   287699    37360   control\n",
       "76986     76987    37363   control\n",
       "175825   175826    37366   control\n",
       "174390   174391    37369   control\n",
       "229054   229055    37374   control\n",
       "142804   142805    37379   control\n",
       "21585     21586    37385   control\n",
       "65077     65078    37394   control\n",
       "196601   196602    37407   control\n",
       "101861   101862    37433   control"
      ]
     },
     "execution_count": 114,
     "metadata": {},
     "output_type": "execute_result"
    }
   ],
   "source": [
    "#смотрим максимальные значения\n",
    "AB_mobil_games.query('testgroup == \"control\"').query('revenue > 0').sort_values(by = 'revenue').tail(20)"
   ]
  },
  {
   "cell_type": "code",
   "execution_count": 115,
   "metadata": {},
   "outputs": [
    {
     "data": {
      "text/plain": [
       "count     1928.000000\n",
       "mean      2663.998444\n",
       "std       9049.039763\n",
       "min        200.000000\n",
       "25%        257.000000\n",
       "50%        311.000000\n",
       "75%        361.000000\n",
       "max      37433.000000\n",
       "Name: revenue, dtype: float64"
      ]
     },
     "execution_count": 115,
     "metadata": {},
     "output_type": "execute_result"
    }
   ],
   "source": [
    "AB_mobil_games.query('testgroup == \"control\"').query('revenue > 0').sort_values(by = 'revenue')['revenue'].describe()\n",
    "#дорогих покупок меньше 25%"
   ]
  },
  {
   "cell_type": "markdown",
   "metadata": {},
   "source": [
    "- есть много дорогих покупок, но их меньше, чем недорогих, судя по графику\n",
    "- большинство пользователей - неплатящие"
   ]
  },
  {
   "cell_type": "code",
   "execution_count": 117,
   "metadata": {},
   "outputs": [
    {
     "data": {
      "text/plain": [
       "37295.0"
      ]
     },
     "execution_count": 117,
     "metadata": {},
     "output_type": "execute_result"
    }
   ],
   "source": [
    "AB_mobil_games.query('testgroup == \"control\"').query('revenue > 0')['revenue'].quantile(q=0.94)\n",
    "#примерил подхоящий квантиль для выброса"
   ]
  },
  {
   "cell_type": "markdown",
   "metadata": {},
   "source": [
    "- только около 6% покупок являются сверхдорогими, остальные намного меньше и близки по величине между собой."
   ]
  },
  {
   "cell_type": "markdown",
   "metadata": {},
   "source": [
    "#### проверим нормальность распределения"
   ]
  },
  {
   "cell_type": "code",
   "execution_count": 118,
   "metadata": {},
   "outputs": [
    {
     "name": "stderr",
     "output_type": "stream",
     "text": [
      "/opt/tljh/user/lib/python3.7/site-packages/scipy/stats/morestats.py:1760: UserWarning: p-value may not be accurate for N > 5000.\n",
      "  warnings.warn(\"p-value may not be accurate for N > 5000.\")\n"
     ]
    },
    {
     "data": {
      "text/plain": [
       "ShapiroResult(statistic=0.008876502513885498, pvalue=0.0)"
      ]
     },
     "execution_count": 118,
     "metadata": {},
     "output_type": "execute_result"
    }
   ],
   "source": [
    "stats.shapiro(AB_mobil_games.query('testgroup == \"control\"')['revenue'])\n",
    "#не нормальное"
   ]
  },
  {
   "cell_type": "markdown",
   "metadata": {},
   "source": [
    "#### Визуализируем данные по покупкам. Тестовая группа:"
   ]
  },
  {
   "cell_type": "code",
   "execution_count": 147,
   "metadata": {},
   "outputs": [
    {
     "data": {
      "text/plain": [
       "<matplotlib.axes._subplots.AxesSubplot at 0x7f16463c78d0>"
      ]
     },
     "execution_count": 147,
     "metadata": {},
     "output_type": "execute_result"
    },
    {
     "data": {
      "image/png": "[encoded data removed]",
      "text/plain": [
       "<Figure size 1440x360 with 1 Axes>"
      ]
     },
     "metadata": {},
     "output_type": "display_data"
    }
   ],
   "source": [
    "sns.boxplot(data=AB_mobil_games.query('testgroup == \"test\"'), y='testgroup', x='revenue')"
   ]
  },
  {
   "cell_type": "markdown",
   "metadata": {},
   "source": [
    "- ситуация более стабильная, пользователи, которые покупают, имеют небольшой разброс в размере покупок - от 2 до 4 тысяч\n",
    "- также большинство пользователей - неплатящие"
   ]
  },
  {
   "cell_type": "markdown",
   "metadata": {},
   "source": [
    "#### также проверим на тесте Шапиро-Уилка:"
   ]
  },
  {
   "cell_type": "code",
   "execution_count": 120,
   "metadata": {},
   "outputs": [
    {
     "name": "stderr",
     "output_type": "stream",
     "text": [
      "/opt/tljh/user/lib/python3.7/site-packages/scipy/stats/morestats.py:1760: UserWarning: p-value may not be accurate for N > 5000.\n",
      "  warnings.warn(\"p-value may not be accurate for N > 5000.\")\n"
     ]
    },
    {
     "data": {
      "text/plain": [
       "ShapiroResult(statistic=0.06588172912597656, pvalue=0.0)"
      ]
     },
     "execution_count": 120,
     "metadata": {},
     "output_type": "execute_result"
    }
   ],
   "source": [
    "stats.shapiro(AB_mobil_games.query('testgroup == \"test\"')['revenue'])\n",
    "#не нормальное распределение"
   ]
  },
  {
   "cell_type": "markdown",
   "metadata": {},
   "source": [
    "#### Посмотрим на ARPU у пользователей тестовой и контрольной групп:"
   ]
  },
  {
   "cell_type": "code",
   "execution_count": 121,
   "metadata": {},
   "outputs": [
    {
     "data": {
      "text/plain": [
       "26.75128659327863"
      ]
     },
     "execution_count": 121,
     "metadata": {},
     "output_type": "execute_result"
    }
   ],
   "source": [
    "AB_mobil_games.query('testgroup == \"test\"')['revenue'].mean()"
   ]
  },
  {
   "cell_type": "code",
   "execution_count": 122,
   "metadata": {},
   "outputs": [
    {
     "data": {
      "text/plain": [
       "25.413719736965806"
      ]
     },
     "execution_count": 122,
     "metadata": {},
     "output_type": "execute_result"
    }
   ],
   "source": [
    "AB_mobil_games.query('testgroup == \"control\"')['revenue'].mean()"
   ]
  },
  {
   "cell_type": "markdown",
   "metadata": {},
   "source": [
    "- очень небольшие значения, они очень близки между собой\n",
    "- У тестовой группы ARPU незначительно выше"
   ]
  },
  {
   "cell_type": "markdown",
   "metadata": {},
   "source": [
    "#### Формирование гипотез\n",
    "- H0 - акционный наборы у тестовой и контрольной группы одинаково влияют на средний доход с пользователя \n",
    "- H1 - акционные наборы дают различный эффект, в тестовой группе он немого лучше"
   ]
  },
  {
   "cell_type": "markdown",
   "metadata": {},
   "source": [
    "### Проведение AB-теста\n",
    "#### Для теста применим метод bootstrap, так как он позволяет работать со средними значениями при ненормальном распределении данных"
   ]
  },
  {
   "cell_type": "code",
   "execution_count": 141,
   "metadata": {},
   "outputs": [],
   "source": [
    "#создаём пустой список для разницы средних\n",
    "mean_diff = []\n",
    "\n",
    "#создаём цикл со случайным взятием из нужного числа выборок\n",
    "for i in range(10000):\n",
    "#делаем настройку, что возьмется изначальное количество рядов и что они будут браться с повторением в контрольной группе\n",
    "    sample_data_control = AB_mobil_games.query('testgroup == \"control\"').sample(frac=1, replace=True)\n",
    "    #из получившегося датафрейма будем брать каждый раз среднее\n",
    "    sample_mean_control = sample_data_control.revenue.mean()\n",
    "    \n",
    "    #то же самое повторим для тестовой группы\n",
    "    sample_data_test = AB_mobil_games.query('testgroup == \"test\"').sample(frac=1, replace=True)\n",
    "    sample_mean_test = sample_data_test.revenue.mean()\n",
    "    \n",
    "    #соберём каждый раз разницу в средних\n",
    "    sample_mean_diff = sample_mean_test - sample_mean_control\n",
    "    mean_diff.append(sample_mean_diff)"
   ]
  },
  {
   "cell_type": "code",
   "execution_count": 154,
   "metadata": {},
   "outputs": [
    {
     "data": {
      "text/plain": [
       "0.025   -2.919549\n",
       "0.975    5.473951\n",
       "dtype: float64"
      ]
     },
     "execution_count": 154,
     "metadata": {},
     "output_type": "execute_result"
    }
   ],
   "source": [
    "pd.Series(mean_diff).quantile([0.025, 0.975])\n",
    "#разница в средних включает в себя 0"
   ]
  },
  {
   "cell_type": "code",
   "execution_count": 157,
   "metadata": {},
   "outputs": [
    {
     "data": {
      "image/png": "[encoded data removed]",
      "text/plain": [
       "<Figure size 1440x360 with 1 Axes>"
      ]
     },
     "metadata": {},
     "output_type": "display_data"
    }
   ],
   "source": [
    "#делаем из списка датафрейм\n",
    "mean_diff_data = pd.DataFrame(mean_diff)\n",
    "#определяем 95-процентный доверительный интервал\n",
    "conf_int = mean_diff_data.quantile([0.025, 0.975])\n",
    "\n",
    "#строим график с отсечками интервала\n",
    "sns.histplot(mean_diff, kde=False)\n",
    "\n",
    "plt.vlines(conf_int,ymin=0,ymax=150,linestyle='-')\n",
    "plt.xlabel('means')\n",
    "plt.ylabel('frec')\n",
    "plt.title(\"distribution of means differents\")\n",
    "\n",
    "plt.show()"
   ]
  },
  {
   "cell_type": "markdown",
   "metadata": {},
   "source": [
    "- (!) ARPU для пользователей в группах статистически значимо не отличаются (порог p-value для статистики учитываем как 0,05)"
   ]
  },
  {
   "cell_type": "markdown",
   "metadata": {},
   "source": [
    "### Метрика 2 ARPPU\n",
    "\n",
    "средний доход с платящего пользователя"
   ]
  },
  {
   "cell_type": "markdown",
   "metadata": {},
   "source": [
    "#### Визуализируем данные в обеих группах"
   ]
  },
  {
   "cell_type": "code",
   "execution_count": 149,
   "metadata": {},
   "outputs": [
    {
     "data": {
      "text/plain": [
       "<matplotlib.axes._subplots.AxesSubplot at 0x7f1645e88be0>"
      ]
     },
     "execution_count": 149,
     "metadata": {},
     "output_type": "execute_result"
    },
    {
     "data": {
      "image/png": "[encoded data removed]",
      "text/plain": [
       "<Figure size 1440x360 with 1 Axes>"
      ]
     },
     "metadata": {},
     "output_type": "display_data"
    }
   ],
   "source": [
    "sns.boxplot(data=AB_mobil_games.query('revenue > 0'), y='testgroup', x='revenue')"
   ]
  },
  {
   "cell_type": "markdown",
   "metadata": {},
   "source": [
    "Мы видим, что платящие пользователи в разных группах ведут себя по-разному. В контрольной группе есть как мелкие покупки, так и значительные."
   ]
  },
  {
   "cell_type": "markdown",
   "metadata": {},
   "source": [
    "#### Проверим распределения на нормальность:"
   ]
  },
  {
   "cell_type": "code",
   "execution_count": 124,
   "metadata": {},
   "outputs": [
    {
     "data": {
      "text/plain": [
       "ShapiroResult(statistic=0.2667924761772156, pvalue=0.0)"
      ]
     },
     "execution_count": 124,
     "metadata": {},
     "output_type": "execute_result"
    }
   ],
   "source": [
    "stats.shapiro(AB_mobil_games.query('testgroup == \"control\"').query('revenue > 0')['revenue'])\n",
    "#у контрольной группы распределение не нормальное"
   ]
  },
  {
   "cell_type": "code",
   "execution_count": 125,
   "metadata": {},
   "outputs": [
    {
     "data": {
      "text/plain": [
       "ShapiroResult(statistic=0.9583123922348022, pvalue=2.491345674771425e-22)"
      ]
     },
     "execution_count": 125,
     "metadata": {},
     "output_type": "execute_result"
    }
   ],
   "source": [
    "stats.shapiro(AB_mobil_games.query('testgroup == \"test\"').query('revenue > 0')['revenue'])\n",
    "#у тестовой распределение также не нормальное"
   ]
  },
  {
   "cell_type": "markdown",
   "metadata": {},
   "source": [
    "#### посмотрим на ARPPU у пользователей тестовой и контрольной групп:"
   ]
  },
  {
   "cell_type": "code",
   "execution_count": 126,
   "metadata": {
    "scrolled": true
   },
   "outputs": [
    {
     "data": {
      "text/plain": [
       "2663.9984439834025"
      ]
     },
     "execution_count": 126,
     "metadata": {},
     "output_type": "execute_result"
    }
   ],
   "source": [
    "AB_mobil_games.query('testgroup == \"control\"').query('revenue > 0')['revenue'].mean()"
   ]
  },
  {
   "cell_type": "code",
   "execution_count": 127,
   "metadata": {},
   "outputs": [
    {
     "data": {
      "text/plain": [
       "3003.6581717451522"
      ]
     },
     "execution_count": 127,
     "metadata": {},
     "output_type": "execute_result"
    }
   ],
   "source": [
    "AB_mobil_games.query('testgroup == \"test\"').query('revenue > 0')['revenue'].mean()"
   ]
  },
  {
   "cell_type": "code",
   "execution_count": 128,
   "metadata": {},
   "outputs": [
    {
     "data": {
      "text/plain": [
       "12.749997227996346"
      ]
     },
     "execution_count": 128,
     "metadata": {},
     "output_type": "execute_result"
    }
   ],
   "source": [
    "(3003.6581717451522 / 2663.9984439834025) * 100 - 100"
   ]
  },
  {
   "cell_type": "markdown",
   "metadata": {},
   "source": [
    "- отличие заметное\n",
    "- у тестовой группы ARPPU выше почти на 13%"
   ]
  },
  {
   "cell_type": "markdown",
   "metadata": {},
   "source": [
    "#### Формирование гипотез\n",
    "- H0 - акционный наборы у тестовой и контрольной группы одинаково влияют на средний доход с платящего пользователя \n",
    "- H1 - акционные наборы дают различный эффект, в тестовой группе он немого лучше"
   ]
  },
  {
   "cell_type": "markdown",
   "metadata": {},
   "source": [
    "### Проведение AB-теста\n",
    "также используем bootstrap"
   ]
  },
  {
   "cell_type": "code",
   "execution_count": 130,
   "metadata": {},
   "outputs": [],
   "source": [
    "#создаём пустой список для разницы средних\n",
    "mean_diff_ARPPU = []\n",
    "\n",
    "#создаём цикл со случайным взятием из нужного числа выборок\n",
    "for i in range(10000):\n",
    "#делаем настройку, что возьмется изначальное количество рядов и что они будут браться с повторением в контрольной группе\n",
    "    sample_data_control_ARPPU = AB_mobil_games.query('testgroup == \"control\"').query('revenue > 0').sample(frac=1, replace=True)\n",
    "    #из получившегося датафрейма будем брать каждый раз среднее\n",
    "    sample_mean_control_ARPPU = sample_data_control_ARPPU.revenue.mean()\n",
    "    \n",
    "    #то же самое повторим для тестовой группы\n",
    "    sample_data_test_ARPPU = AB_mobil_games.query('testgroup == \"test\"').query('revenue > 0').sample(frac=1, replace=True)\n",
    "    sample_mean_test_ARPPU = sample_data_test_ARPPU.revenue.mean()\n",
    "    \n",
    "    #соберём каждый раз разницу в средних\n",
    "    sample_mean_diff_ARPPU = sample_mean_test_ARPPU - sample_mean_control_ARPPU\n",
    "    mean_diff_ARPPU.append(sample_mean_diff_ARPPU)"
   ]
  },
  {
   "cell_type": "code",
   "execution_count": 150,
   "metadata": {},
   "outputs": [
    {
     "data": {
      "text/plain": [
       "0.025    -66.617288\n",
       "0.975    734.648894\n",
       "dtype: float64"
      ]
     },
     "execution_count": 150,
     "metadata": {},
     "output_type": "execute_result"
    }
   ],
   "source": [
    "pd.Series(mean_diff_ARPPU).quantile([0.025, 0.975])\n",
    "#разница в средних включает в себя 0"
   ]
  },
  {
   "cell_type": "markdown",
   "metadata": {},
   "source": [
    "#### визуализируем, построив доверительный интервал значений распределения средних"
   ]
  },
  {
   "cell_type": "code",
   "execution_count": 156,
   "metadata": {},
   "outputs": [
    {
     "data": {
      "image/png": "[encoded data removed]",
      "text/plain": [
       "<Figure size 1440x360 with 1 Axes>"
      ]
     },
     "metadata": {},
     "output_type": "display_data"
    }
   ],
   "source": [
    "#делаем из списка датафрейм\n",
    "mean_diff_data_ARPPU = pd.DataFrame(mean_diff_ARPPU)\n",
    "#определяем 95-процентный доверительный интервал\n",
    "conf_int = mean_diff_data_ARPPU.quantile([0.025, 0.975])\n",
    "\n",
    "#строим график с отсечками интервала\n",
    "sns.histplot(mean_diff_ARPPU, kde=False)\n",
    "\n",
    "plt.vlines(conf_int,ymin=0,ymax=150,linestyle='-')\n",
    "plt.xlabel('means')\n",
    "plt.ylabel('frec')\n",
    "plt.title(\"distribution of means differents\")\n",
    "\n",
    "plt.show()"
   ]
  },
  {
   "cell_type": "markdown",
   "metadata": {},
   "source": [
    "- (!) ARPPU для пользователей в группах статистически значимо не отличаются - нулевое значение (совпадение средних) находится внутри доверительного интервала.\n",
    "<br><br>\n",
    "- нулевую гипотезу не отклоняем - акционный наборы у тестовой и контрольной группы одинаково влияют на средний доход с платящего пользователя."
   ]
  },
  {
   "cell_type": "markdown",
   "metadata": {},
   "source": [
    "### Метрика 3 CR\n",
    "\n",
    "конверсия в покупку, или доля платящих пользователей среди всех пользователей"
   ]
  },
  {
   "cell_type": "markdown",
   "metadata": {},
   "source": [
    "#### Визуализируем эти доли в двух группах, предварительно подготовив датасет:"
   ]
  },
  {
   "cell_type": "code",
   "execution_count": 135,
   "metadata": {},
   "outputs": [],
   "source": [
    "#создаём новую колонку с булевыми значениями оплаты (нулевая - True, ненулевая - False)\n",
    "AB_mobil_games['is_zero'] = AB_mobil_games['revenue'] == 0"
   ]
  },
  {
   "cell_type": "code",
   "execution_count": 136,
   "metadata": {},
   "outputs": [
    {
     "data": {
      "image/png": "[encoded data removed]",
      "text/plain": [
       "<Figure size 338.4x720 with 1 Axes>"
      ]
     },
     "metadata": {},
     "output_type": "display_data"
    }
   ],
   "source": [
    "sns.set(rc={'figure.figsize':(4.7,10)})\n",
    "ax = sns.histplot(AB_mobil_games, x='testgroup', hue = 'is_zero', multiple='stack')"
   ]
  },
  {
   "cell_type": "markdown",
   "metadata": {},
   "source": [
    "- как и указывалось в условии, в контрольной группе платящих пользователей немного больше, а сама группа немного меньше. Это видно и на графике"
   ]
  },
  {
   "cell_type": "markdown",
   "metadata": {},
   "source": [
    "#### Посчитаем конверсию в покупку у обеих групп:"
   ]
  },
  {
   "cell_type": "code",
   "execution_count": 137,
   "metadata": {},
   "outputs": [
    {
     "data": {
      "text/plain": [
       "0.009631572374172599"
      ]
     },
     "execution_count": 137,
     "metadata": {},
     "output_type": "execute_result"
    }
   ],
   "source": [
    "AB_mobil_games.query('testgroup == \"control\"').query('is_zero == False')['is_zero'].count() / \\\n",
    "AB_mobil_games.query('testgroup == \"control\"').query('is_zero == True')['is_zero'].count()"
   ]
  },
  {
   "cell_type": "code",
   "execution_count": 138,
   "metadata": {},
   "outputs": [
    {
     "data": {
      "text/plain": [
       "0.00898626917983491"
      ]
     },
     "execution_count": 138,
     "metadata": {},
     "output_type": "execute_result"
    }
   ],
   "source": [
    "AB_mobil_games.query('testgroup == \"test\"').query('is_zero == False')['is_zero'].count() / \\\n",
    "AB_mobil_games.query('testgroup == \"test\"').query('is_zero == True')['is_zero'].count()"
   ]
  },
  {
   "cell_type": "markdown",
   "metadata": {},
   "source": [
    "- и так тоже мы видим, что CR у контрольной группы выше"
   ]
  },
  {
   "cell_type": "markdown",
   "metadata": {},
   "source": [
    "#### Формирование гипотез\n",
    "- H0 - акционный наборы у тестовой и контрольной группы одинаково влияют желание пользователей заплатить за товар в приложении\n",
    "- H1 - акционные наборы мотивируют чаще покупать и меняют конверсию пользователя в покупку"
   ]
  },
  {
   "cell_type": "markdown",
   "metadata": {},
   "source": [
    "### Проведение AB-теста\n",
    "#### Переменные качественные (да\\нет), независимые и их всего две, поэтому проводим тест с помощью Хи-квадрата Пирсона:"
   ]
  },
  {
   "cell_type": "code",
   "execution_count": 139,
   "metadata": {},
   "outputs": [],
   "source": [
    "from scipy.stats import chi2_contingency"
   ]
  },
  {
   "cell_type": "code",
   "execution_count": 140,
   "metadata": {},
   "outputs": [
    {
     "data": {
      "text/plain": [
       "(4.374729521260405, 0.03647561892312613)"
      ]
     },
     "execution_count": 140,
     "metadata": {},
     "output_type": "execute_result"
    }
   ],
   "source": [
    "stat, p1, dof, chi = chi2_contingency(pd.crosstab(AB_mobil_games.testgroup, AB_mobil_games.is_zero))\n",
    "stat, p1 "
   ]
  },
  {
   "cell_type": "markdown",
   "metadata": {},
   "source": [
    "- (!) покупательский интерес для пользователей в группах статистически значимо отличается\n",
    "<br><br>\n",
    "- есть все основания отклонить нулевую гипотезу и сказать, что акционные предложения влияют на конверсию в покупку\n",
    "- в контрольной группе CR статистически значимо выше"
   ]
  },
  {
   "cell_type": "markdown",
   "metadata": {},
   "source": [
    "### Выводы"
   ]
  },
  {
   "cell_type": "markdown",
   "metadata": {},
   "source": [
    "- Были проанализрованы две важные для бизнеса метрики - ARPU и ARPPU. Несмотря на то, что значения ARPU и ARPPU по имещимся данным у тестовой группы были выше, статистически значимого различия в доходах с пользователей и доходах с платящих пользователей зафиксировано не было.\n",
    "<br><br>\n",
    "- Также был проведён тест по метрике CR (конверсия в покупку). Результаты показали, что покупательский интерес для пользователей в группах статистически значимо отличается. В контрольной группе CR выше.\n",
    "<br><br>\n",
    "- Исходя из этого, вариант акционных предложений, предоставленных пользователям в тестовой группе, не повлиял на увеличение среднего дохода с пользователя и на увеличение среднего дохода с платящего пользователя, поэтому масштабировать этот вариант акции на всех пользователей не рекомендуется. Кроме того, CR в покупку у контрольной группы выше. На данный момент лучше оставить те предложения, которые действуют сейчас, которыми и пользовалась контрольная группа.\n",
    "<br><br>\n",
    "- Важно учесть, что поведение пользователей различается - если у пользователей контрольной группы есть много мелких покупок, а 6% из них являются сверхдорогими (свыше 35 тыс.), то у тестовой все покупки находятся в диапазоне примерно 2000-4000. При этом количество покупок в целом сопоставимо. "
   ]
  },
  {
   "cell_type": "markdown",
   "metadata": {},
   "source": [
    "##### Проект сделан в рамках обучения на Аналитика данных  в Karpov Courses"
   ]
  }
 ],
 "metadata": {
  "kernelspec": {
   "display_name": "Python 3",
   "language": "python",
   "name": "python3"
  },
  "language_info": {
   "codemirror_mode": {
    "name": "ipython",
    "version": 3
   },
   "file_extension": ".py",
   "mimetype": "text/x-python",
   "name": "python",
   "nbconvert_exporter": "python",
   "pygments_lexer": "ipython3",
   "version": "3.7.3"
  }
 },
 "nbformat": 4,
 "nbformat_minor": 4
}
